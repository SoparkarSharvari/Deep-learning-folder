{
 "cells": [
  {
   "cell_type": "markdown",
   "metadata": {},
   "source": [
    "## Practicle No.1 "
   ]
  },
  {
   "cell_type": "markdown",
   "metadata": {},
   "source": [
    "#### Single Perceptron\n"
   ]
  },
  {
   "cell_type": "code",
   "execution_count": 2,
   "metadata": {},
   "outputs": [],
   "source": [
    "x_input=[0.1,0.5,0.2]\n",
    "w_weight=[0.4,0.3,0.6]\n",
    "threshold = 0.5"
   ]
  },
  {
   "cell_type": "code",
   "execution_count": 3,
   "metadata": {},
   "outputs": [],
   "source": [
    "def step(weighted_sum):\n",
    "  if weighted_sum >= threshold:\n",
    "    return 1\n",
    "  else:\n",
    "    return 0\n"
   ]
  },
  {
   "cell_type": "code",
   "execution_count": 4,
   "metadata": {},
   "outputs": [],
   "source": [
    "def perceptron():\n",
    "  weighted_sum=0\n",
    "  for x,w in zip(x_input,w_weight):\n",
    "    weighted_sum += x*w\n",
    "    print(weighted_sum)\n",
    "  return step(weighted_sum)\n"
   ]
  },
  {
   "cell_type": "code",
   "execution_count": 5,
   "metadata": {},
   "outputs": [
    {
     "name": "stdout",
     "output_type": "stream",
     "text": [
      "0.04000000000000001\n",
      "0.19\n",
      "0.31\n",
      "output 0\n"
     ]
    }
   ],
   "source": [
    "output = perceptron()\n",
    "print('output',output)"
   ]
  },
  {
   "cell_type": "markdown",
   "metadata": {},
   "source": [
    "### LOGICAL GATES \n"
   ]
  },
  {
   "cell_type": "code",
   "execution_count": 6,
   "metadata": {},
   "outputs": [],
   "source": [
    "def step(weighted_sum):\n",
    "  if weighted_sum > threshold:\n",
    "    return 1\n",
    "  else:\n",
    "    return 0"
   ]
  },
  {
   "cell_type": "code",
   "execution_count": 13,
   "metadata": {},
   "outputs": [],
   "source": [
    "def perceptron_for_logical_gates(x1_input,w1_weight,x2_input,w2_weight):\n",
    "  bias=1\n",
    "  for x1,w1,x2,w2 in zip(x1_input,w1_weight,x2_input,w2_weight):\n",
    "    print(x1,x2,w1,w2)\n",
    "    weighted_sum = x1*w1+x2*w2+bias\n",
    "    print(\"weight:\",weighted_sum)\n",
    "    print(\"AND Output:\",step(weighted_sum))"
   ]
  },
  {
   "cell_type": "markdown",
   "metadata": {},
   "source": [
    "#### AND LOGICAL GATE"
   ]
  },
  {
   "cell_type": "code",
   "execution_count": 11,
   "metadata": {},
   "outputs": [],
   "source": [
    "x1_input=[0,1,0,1]\n",
    "x2_input=[0,0,1,1]\n",
    "w1_weight=[1,1,1,1]\n",
    "w2_weight=[1,1,1,1]\n",
    "threshold = 2"
   ]
  },
  {
   "cell_type": "code",
   "execution_count": 14,
   "metadata": {},
   "outputs": [
    {
     "name": "stdout",
     "output_type": "stream",
     "text": [
      "0 0 1 1\n",
      "weight: 1\n",
      "AND Output: 0\n",
      "1 0 1 1\n",
      "weight: 2\n",
      "AND Output: 0\n",
      "0 1 1 1\n",
      "weight: 2\n",
      "AND Output: 0\n",
      "1 1 1 1\n",
      "weight: 3\n",
      "AND Output: 1\n"
     ]
    }
   ],
   "source": [
    "perceptron_for_logical_gates(x1_input,w1_weight,x2_input,w2_weight)"
   ]
  },
  {
   "cell_type": "markdown",
   "metadata": {},
   "source": [
    "#### OR LOGICAL GATE"
   ]
  },
  {
   "cell_type": "code",
   "execution_count": 15,
   "metadata": {},
   "outputs": [],
   "source": [
    "x1_input=[0,1,0,1]\n",
    "x2_input=[0,0,1,1]\n",
    "w1_weight=[1,1,1,1]\n",
    "w2_weight=[1,1,1,1]\n",
    "threshold = 1"
   ]
  },
  {
   "cell_type": "code",
   "execution_count": 16,
   "metadata": {},
   "outputs": [
    {
     "name": "stdout",
     "output_type": "stream",
     "text": [
      "0 0 1 1\n",
      "weight: 1\n",
      "AND Output: 0\n",
      "1 0 1 1\n",
      "weight: 2\n",
      "AND Output: 1\n",
      "0 1 1 1\n",
      "weight: 2\n",
      "AND Output: 1\n",
      "1 1 1 1\n",
      "weight: 3\n",
      "AND Output: 1\n"
     ]
    }
   ],
   "source": [
    "perceptron_for_logical_gates(x1_input,w1_weight,x2_input,w2_weight)"
   ]
  },
  {
   "cell_type": "markdown",
   "metadata": {},
   "source": [
    "#### NOT LOGICAL GATE"
   ]
  },
  {
   "cell_type": "code",
   "execution_count": 50,
   "metadata": {},
   "outputs": [],
   "source": [
    "x1_input=[0,1]\n",
    "w1_weight=[1,1]\n",
    "threshold = 2"
   ]
  },
  {
   "cell_type": "code",
   "execution_count": 51,
   "metadata": {},
   "outputs": [],
   "source": [
    "def step(weighted_sum):\n",
    "  if weighted_sum < threshold:\n",
    "    return 1\n",
    "  else:\n",
    "    return 0"
   ]
  },
  {
   "cell_type": "code",
   "execution_count": 52,
   "metadata": {},
   "outputs": [],
   "source": [
    "def perceptron_for_logical_gates(x1_input,w1_weight):\n",
    "  bias=1\n",
    "  for x1,w1 in zip(x1_input,w1_weight):\n",
    "    print(x1,w1)\n",
    "    weighted_sum = x1*w1+bias\n",
    "    print(\"weight:\",weighted_sum)\n",
    "    print(\"AND Output:\",step(weighted_sum))\n"
   ]
  },
  {
   "cell_type": "code",
   "execution_count": 53,
   "metadata": {},
   "outputs": [
    {
     "name": "stdout",
     "output_type": "stream",
     "text": [
      "0 1\n",
      "weight: 1\n",
      "AND Output: 1\n",
      "1 1\n",
      "weight: 2\n",
      "AND Output: 0\n"
     ]
    }
   ],
   "source": [
    "perceptron_for_logical_gates(x1_input,w1_weight)"
   ]
  },
  {
   "cell_type": "markdown",
   "metadata": {},
   "source": [
    "#### NAND LOGICLE GATE"
   ]
  },
  {
   "cell_type": "code",
   "execution_count": 58,
   "metadata": {},
   "outputs": [],
   "source": [
    "x1_input=[0,1,0,1]\n",
    "x2_input=[0,0,1,1]\n",
    "w1_weight=[1,1,1,1]\n",
    "w2_weight=[1,1,1,1]\n",
    "threshold = 2"
   ]
  },
  {
   "cell_type": "code",
   "execution_count": 62,
   "metadata": {},
   "outputs": [],
   "source": [
    "def step(weighted_sum):\n",
    "  if weighted_sum <= threshold:\n",
    "    return 1\n",
    "  else:\n",
    "    return 0"
   ]
  },
  {
   "cell_type": "code",
   "execution_count": 63,
   "metadata": {},
   "outputs": [],
   "source": [
    "def perceptron_for_logical_gates(x1_input,w1_weight,x2_input,w2_weight):\n",
    "  bias=1\n",
    "  for x1,w1,x2,w2 in zip(x1_input,w1_weight,x2_input,w2_weight):\n",
    "    print(x1,x2,w1,w2)\n",
    "    weighted_sum = x1*w1+x2*w2+bias\n",
    "    print(\"weight:\",weighted_sum)\n",
    "    print(\"AND Output:\",step(weighted_sum))"
   ]
  },
  {
   "cell_type": "code",
   "execution_count": 64,
   "metadata": {},
   "outputs": [
    {
     "name": "stdout",
     "output_type": "stream",
     "text": [
      "0 0 1 1\n",
      "weight: 1\n",
      "AND Output: 1\n",
      "1 0 1 1\n",
      "weight: 2\n",
      "AND Output: 1\n",
      "0 1 1 1\n",
      "weight: 2\n",
      "AND Output: 1\n",
      "1 1 1 1\n",
      "weight: 3\n",
      "AND Output: 0\n"
     ]
    }
   ],
   "source": [
    "perceptron_for_logical_gates(x1_input,w1_weight,x2_input,w2_weight)"
   ]
  },
  {
   "cell_type": "markdown",
   "metadata": {},
   "source": [
    "#### NOR LOGICAL GATE"
   ]
  },
  {
   "cell_type": "code",
   "execution_count": 69,
   "metadata": {},
   "outputs": [],
   "source": [
    "x1_input=[0,1,0,1]\n",
    "x2_input=[0,0,1,1]\n",
    "w1_weight=[1,1,1,1]\n",
    "w2_weight=[1,1,1,1]\n",
    "threshold = 1"
   ]
  },
  {
   "cell_type": "code",
   "execution_count": 70,
   "metadata": {},
   "outputs": [],
   "source": [
    "def step(weighted_sum):\n",
    "  if weighted_sum <= threshold:\n",
    "    return 1\n",
    "  else:\n",
    "    return 0"
   ]
  },
  {
   "cell_type": "code",
   "execution_count": 71,
   "metadata": {},
   "outputs": [],
   "source": [
    "def perceptron_for_logical_gates(x1_input,w1_weight,x2_input,w2_weight):\n",
    "  bias=1\n",
    "  for x1,w1,x2,w2 in zip(x1_input,w1_weight,x2_input,w2_weight):\n",
    "    print(x1,x2,w1,w2)\n",
    "    weighted_sum = x1*w1+x2*w2+bias\n",
    "    print(\"weight:\",weighted_sum)\n",
    "    print(\"AND Output:\",step(weighted_sum))"
   ]
  },
  {
   "cell_type": "code",
   "execution_count": 72,
   "metadata": {},
   "outputs": [
    {
     "name": "stdout",
     "output_type": "stream",
     "text": [
      "0 0 1 1\n",
      "weight: 1\n",
      "AND Output: 1\n",
      "1 0 1 1\n",
      "weight: 2\n",
      "AND Output: 0\n",
      "0 1 1 1\n",
      "weight: 2\n",
      "AND Output: 0\n",
      "1 1 1 1\n",
      "weight: 3\n",
      "AND Output: 0\n"
     ]
    }
   ],
   "source": [
    "perceptron_for_logical_gates(x1_input,w1_weight,x2_input,w2_weight)"
   ]
  }
 ],
 "metadata": {
  "kernelspec": {
   "display_name": "Python 3",
   "language": "python",
   "name": "python3"
  },
  "language_info": {
   "codemirror_mode": {
    "name": "ipython",
    "version": 3
   },
   "file_extension": ".py",
   "mimetype": "text/x-python",
   "name": "python",
   "nbconvert_exporter": "python",
   "pygments_lexer": "ipython3",
   "version": "3.10.2"
  }
 },
 "nbformat": 4,
 "nbformat_minor": 2
}
