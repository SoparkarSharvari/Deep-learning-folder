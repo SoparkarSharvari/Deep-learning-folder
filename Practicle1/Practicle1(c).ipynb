{
 "cells": [
  {
   "cell_type": "markdown",
   "metadata": {},
   "source": [
    "### Practicle No. 1 (c)"
   ]
  },
  {
   "cell_type": "markdown",
   "metadata": {},
   "source": [
    "1C.Write a python program to find the number of linearly separable problems out of total binary\n",
    "classification problems on {P0(-1,-1,-1), P1(-1,-1,1) , P2(-1,1,-1) , P3(-1,1,1) ,P4(1,-1,-1), P5(1,-1,1) ,\n",
    "P6(1,1,-1) , P7(1,1,1) }."
   ]
  },
  {
   "cell_type": "code",
   "execution_count": 1,
   "metadata": {},
   "outputs": [
    {
     "name": "stdout",
     "output_type": "stream",
     "text": [
      "Total binary classification problems: 28\n",
      "Number of linearly separable problems: 28\n"
     ]
    }
   ],
   "source": [
    "import numpy as np\n",
    "\n",
    "def step_function(value):\n",
    "    return 1 if value >= 0 else -1\n",
    "\n",
    "def perceptron_train(inputs, targets, learning_rate=0.1, max_iterations=100):\n",
    "    inputs = np.array(inputs)\n",
    "    targets = np.array(targets)\n",
    "    weights = np.zeros(inputs.shape[1])\n",
    "    bias = 0\n",
    "\n",
    "    for _ in range(max_iterations):\n",
    "        for i in range(len(inputs)):\n",
    "            prediction = step_function(np.dot(inputs[i], weights) + bias)\n",
    "            error = targets[i] - prediction\n",
    "            weights += learning_rate * error * inputs[i]\n",
    "            bias += learning_rate * error\n",
    "\n",
    "        # Check if all predictions are correct\n",
    "        if np.all(np.array([step_function(np.dot(inputs[i], weights) + bias) for i in range(len(inputs))]) == targets):\n",
    "            return True\n",
    "\n",
    "    return False\n",
    "\n",
    "def main():\n",
    "    data = {\n",
    "        'P0': [-1, -1, -1],\n",
    "        'P1': [-1, -1, 1],\n",
    "        'P2': [-1, 1, -1],\n",
    "        'P3': [-1, 1, 1],\n",
    "        'P4': [1, -1, -1],\n",
    "        'P5': [1, -1, 1],\n",
    "        'P6': [1, 1, -1],\n",
    "        'P7': [1, 1, 1],\n",
    "    }\n",
    "\n",
    "    patterns = list(data.keys())\n",
    "    total_problems = len(patterns) * (len(patterns) - 1) // 2  # Total binary classification problems\n",
    "\n",
    "    separable_problems = 0\n",
    "\n",
    "    for i in range(len(patterns)):\n",
    "        for j in range(i + 1, len(patterns)):\n",
    "            inputs = [data[patterns[i]], data[patterns[j]]]\n",
    "            targets = [-1, 1]\n",
    "            if perceptron_train(inputs, targets):\n",
    "                separable_problems += 1\n",
    "\n",
    "    print(f\"Total binary classification problems: {total_problems}\")\n",
    "    print(f\"Number of linearly separable problems: {separable_problems}\")\n",
    "\n",
    "if __name__ == \"__main__\":\n",
    "    main()\n"
   ]
  }
 ],
 "metadata": {
  "kernelspec": {
   "display_name": "base",
   "language": "python",
   "name": "python3"
  },
  "language_info": {
   "codemirror_mode": {
    "name": "ipython",
    "version": 3
   },
   "file_extension": ".py",
   "mimetype": "text/x-python",
   "name": "python",
   "nbconvert_exporter": "python",
   "pygments_lexer": "ipython3",
   "version": "3.11.5"
  }
 },
 "nbformat": 4,
 "nbformat_minor": 2
}
