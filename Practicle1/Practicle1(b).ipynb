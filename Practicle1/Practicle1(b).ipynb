{
 "cells": [
  {
   "cell_type": "markdown",
   "metadata": {},
   "source": [
    "### Practicle No.1(b)"
   ]
  },
  {
   "cell_type": "markdown",
   "metadata": {},
   "source": [
    "1B. Implement Perceptron learning algorithm for classification of following points {P0(-1,-1,-1) , P1(-\n",
    "1,-1,1) , P2(-1,1,-1), P3(-1,1,1) ,P4(1,-1,-1) , P5(1,-1,1) , P6(1,1,-1), P7(1,1,1)} in to two classes:\n",
    "C1={P7 (1,1,1)}\n",
    "C2={ P0(-1,-1,-1), P1(-1,-1,1) , P2(-1,1,-1) , P3(-1,1,1) ,P4(1,-1,-1), P5(1,-1,1) , P6(1,1,-1) }"
   ]
  },
  {
   "cell_type": "code",
   "execution_count": 1,
   "metadata": {},
   "outputs": [],
   "source": [
    "import numpy as np"
   ]
  },
  {
   "cell_type": "code",
   "execution_count": 2,
   "metadata": {},
   "outputs": [],
   "source": [
    "data_points = {\n",
    "    'P0':np.array([-1,-1,-1]),\n",
    "    'P1':np.array([-1,-1, 1]),\n",
    "    'P2':np.array([-1, 1,-1]),\n",
    "    'P3':np.array([-1, 1, 1]),\n",
    "    'P4':np.array([ 1,-1,-1]),\n",
    "    'P5':np.array([ 1,-1, 1]),\n",
    "    'P6':np.array([ 1, 1,-1]),\n",
    "    'P7':np.array([ 1, 1, 1])\n",
    "}"
   ]
  },
  {
   "cell_type": "code",
   "execution_count": 3,
   "metadata": {},
   "outputs": [
    {
     "name": "stdout",
     "output_type": "stream",
     "text": [
      "[0. 0. 0.]\n"
     ]
    }
   ],
   "source": [
    "weights = np.zeros(len(data_points['P0']))\n",
    "bias = 0\n",
    "print(weights)\n"
   ]
  },
  {
   "cell_type": "code",
   "execution_count": 4,
   "metadata": {},
   "outputs": [],
   "source": [
    "C1 = ['P7']\n",
    "C2 = ['P0','P1','P2','P3','P4','P5','P6']"
   ]
  },
  {
   "cell_type": "code",
   "execution_count": 5,
   "metadata": {},
   "outputs": [],
   "source": [
    "#Define the learning rate\n",
    "learning_rate = 1\n",
    "epoch =100"
   ]
  },
  {
   "cell_type": "code",
   "execution_count": 6,
   "metadata": {},
   "outputs": [],
   "source": [
    "for epoch in range(epoch):\n",
    "  for point in C2:\n",
    "    x = data_points[point]\n",
    "    y = 1 #C2 is the positive class\n",
    "\n",
    "    #Claculate the prediction\n",
    "    prediction = np.dot(weights,x)+bias\n",
    "\n",
    "    #update weights and bias based on the prediction\n",
    "    if(prediction <=0):\n",
    "      weights += learning_rate * x\n",
    "      bias += learning_rate"
   ]
  },
  {
   "cell_type": "code",
   "execution_count": 7,
   "metadata": {},
   "outputs": [],
   "source": [
    "new_point = np.array([1, 1, 1])\n",
    "prediction = np.dot(weights,new_point) + bias"
   ]
  },
  {
   "cell_type": "code",
   "execution_count": 8,
   "metadata": {},
   "outputs": [
    {
     "name": "stdout",
     "output_type": "stream",
     "text": [
      "The new point[1 1 1] belongs to class C1.\n"
     ]
    }
   ],
   "source": [
    "# Classify the new point\n",
    "\n",
    "if(prediction > 0):\n",
    "  print(f'The new point{new_point} belongs to class C2.')\n",
    "else:\n",
    "  print(f'The new point{new_point} belongs to class C1.')"
   ]
  },
  {
   "cell_type": "code",
   "execution_count": 9,
   "metadata": {},
   "outputs": [],
   "source": [
    "import numpy as np\n",
    "class Perceptron:\n",
    "  def _init_(self, learning_rate, epochs):\n",
    "    self.weights = None\n",
    "    self.bias = None\n",
    "    self.learning_rate = learning_rate\n",
    "    self.epochs = epochs\n",
    "\n",
    "  def activation(self,z):\n",
    "    return np.heaviside(z,0)\n",
    "\n",
    "  def fit(self, X ,y):\n",
    "    n_samples, n_features = X.shape\n",
    "    self.weights = np.zeros(n_features)\n",
    "    self.bias = 0\n",
    "\n",
    "    for epoch in range(self.epochs):\n",
    "      for i in range(n_samples):\n",
    "        z= np.dot(X.iloc[i],self.weights)\n",
    "        y_pred = self.activation(z)\n",
    "\n",
    "        #Update weight and bias\n",
    "        self.weights += self.learning_rate*(y[i]-y_pred)*X.iloc[i]\n",
    "        self.bias += self.learning_rate*(y[i]-y_pred)\n",
    "\n",
    "  def predict(self,X):\n",
    "    z = np.dot(X,self.weights) + self.bias\n",
    "    return self.activation(z)\n",
    "\n"
   ]
  }
 ],
 "metadata": {
  "kernelspec": {
   "display_name": "Python 3",
   "language": "python",
   "name": "python3"
  },
  "language_info": {
   "codemirror_mode": {
    "name": "ipython",
    "version": 3
   },
   "file_extension": ".py",
   "mimetype": "text/x-python",
   "name": "python",
   "nbconvert_exporter": "python",
   "pygments_lexer": "ipython3",
   "version": "3.11.5"
  }
 },
 "nbformat": 4,
 "nbformat_minor": 2
}
