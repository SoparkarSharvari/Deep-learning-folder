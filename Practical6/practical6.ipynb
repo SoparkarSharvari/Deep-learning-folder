{
 "cells": [
  {
   "cell_type": "markdown",
   "metadata": {},
   "source": [
    "### Practical 6"
   ]
  },
  {
   "cell_type": "code",
   "execution_count": 1,
   "metadata": {},
   "outputs": [],
   "source": [
    "import pandas as pd\n",
    "import matplotlib.pyplot as plt\n",
    "import numpy as np\n",
    "import matplotlib.dates as mdates\n",
    "import datetime as dt\n",
    "\n",
    "\n",
    "from tensorflow.keras.layers import Dense, Dropout\n",
    "from keras.layers import GRU\n",
    "from keras.models import Sequential, load_model\n",
    "from sklearn.model_selection import train_test_split\n",
    "from sklearn.preprocessing import MinMaxScaler"
   ]
  },
  {
   "cell_type": "code",
   "execution_count": 2,
   "metadata": {},
   "outputs": [],
   "source": [
    "main_dataset1 = pd.read_csv(\"/Users/sharvarisoparkar/Desktop/Deep_learning_folder/Practical6/dataset/complete.csv\") #Read the data"
   ]
  },
  {
   "cell_type": "code",
   "execution_count": 3,
   "metadata": {},
   "outputs": [
    {
     "data": {
      "text/html": [
       "<div>\n",
       "<style scoped>\n",
       "    .dataframe tbody tr th:only-of-type {\n",
       "        vertical-align: middle;\n",
       "    }\n",
       "\n",
       "    .dataframe tbody tr th {\n",
       "        vertical-align: top;\n",
       "    }\n",
       "\n",
       "    .dataframe thead th {\n",
       "        text-align: right;\n",
       "    }\n",
       "</style>\n",
       "<table border=\"1\" class=\"dataframe\">\n",
       "  <thead>\n",
       "    <tr style=\"text-align: right;\">\n",
       "      <th></th>\n",
       "      <th>Date</th>\n",
       "      <th>Name of State / UT</th>\n",
       "      <th>Latitude</th>\n",
       "      <th>Longitude</th>\n",
       "      <th>Total Confirmed cases</th>\n",
       "      <th>Death</th>\n",
       "      <th>Cured/Discharged/Migrated</th>\n",
       "      <th>New cases</th>\n",
       "      <th>New deaths</th>\n",
       "      <th>New recovered</th>\n",
       "    </tr>\n",
       "  </thead>\n",
       "  <tbody>\n",
       "    <tr>\n",
       "      <th>0</th>\n",
       "      <td>2020-01-30</td>\n",
       "      <td>Kerala</td>\n",
       "      <td>10.8505</td>\n",
       "      <td>76.2711</td>\n",
       "      <td>1.0</td>\n",
       "      <td>0</td>\n",
       "      <td>0.0</td>\n",
       "      <td>0</td>\n",
       "      <td>0</td>\n",
       "      <td>0</td>\n",
       "    </tr>\n",
       "    <tr>\n",
       "      <th>1</th>\n",
       "      <td>2020-01-31</td>\n",
       "      <td>Kerala</td>\n",
       "      <td>10.8505</td>\n",
       "      <td>76.2711</td>\n",
       "      <td>1.0</td>\n",
       "      <td>0</td>\n",
       "      <td>0.0</td>\n",
       "      <td>0</td>\n",
       "      <td>0</td>\n",
       "      <td>0</td>\n",
       "    </tr>\n",
       "    <tr>\n",
       "      <th>2</th>\n",
       "      <td>2020-02-01</td>\n",
       "      <td>Kerala</td>\n",
       "      <td>10.8505</td>\n",
       "      <td>76.2711</td>\n",
       "      <td>2.0</td>\n",
       "      <td>0</td>\n",
       "      <td>0.0</td>\n",
       "      <td>1</td>\n",
       "      <td>0</td>\n",
       "      <td>0</td>\n",
       "    </tr>\n",
       "    <tr>\n",
       "      <th>3</th>\n",
       "      <td>2020-02-02</td>\n",
       "      <td>Kerala</td>\n",
       "      <td>10.8505</td>\n",
       "      <td>76.2711</td>\n",
       "      <td>3.0</td>\n",
       "      <td>0</td>\n",
       "      <td>0.0</td>\n",
       "      <td>1</td>\n",
       "      <td>0</td>\n",
       "      <td>0</td>\n",
       "    </tr>\n",
       "    <tr>\n",
       "      <th>4</th>\n",
       "      <td>2020-02-03</td>\n",
       "      <td>Kerala</td>\n",
       "      <td>10.8505</td>\n",
       "      <td>76.2711</td>\n",
       "      <td>3.0</td>\n",
       "      <td>0</td>\n",
       "      <td>0.0</td>\n",
       "      <td>0</td>\n",
       "      <td>0</td>\n",
       "      <td>0</td>\n",
       "    </tr>\n",
       "  </tbody>\n",
       "</table>\n",
       "</div>"
      ],
      "text/plain": [
       "         Date Name of State / UT  Latitude  Longitude  Total Confirmed cases  \\\n",
       "0  2020-01-30             Kerala   10.8505    76.2711                    1.0   \n",
       "1  2020-01-31             Kerala   10.8505    76.2711                    1.0   \n",
       "2  2020-02-01             Kerala   10.8505    76.2711                    2.0   \n",
       "3  2020-02-02             Kerala   10.8505    76.2711                    3.0   \n",
       "4  2020-02-03             Kerala   10.8505    76.2711                    3.0   \n",
       "\n",
       "  Death  Cured/Discharged/Migrated  New cases  New deaths  New recovered  \n",
       "0     0                        0.0          0           0              0  \n",
       "1     0                        0.0          0           0              0  \n",
       "2     0                        0.0          1           0              0  \n",
       "3     0                        0.0          1           0              0  \n",
       "4     0                        0.0          0           0              0  "
      ]
     },
     "execution_count": 3,
     "metadata": {},
     "output_type": "execute_result"
    }
   ],
   "source": [
    "main_dataset1.head()"
   ]
  },
  {
   "cell_type": "code",
   "execution_count": 4,
   "metadata": {},
   "outputs": [
    {
     "name": "stdout",
     "output_type": "stream",
     "text": [
      "            Date  Total Confirmed cases\n",
      "0     2020-01-30                    1.0\n",
      "1     2020-01-31                    1.0\n",
      "2     2020-02-01                    2.0\n",
      "3     2020-02-02                    3.0\n",
      "4     2020-02-03                    3.0\n",
      "...          ...                    ...\n",
      "4687  2020-08-06                73050.0\n",
      "4688  2020-08-06                 5725.0\n",
      "4689  2020-08-06               104388.0\n",
      "4690  2020-08-06                 8254.0\n",
      "4691  2020-08-06                83800.0\n",
      "\n",
      "[4692 rows x 2 columns]\n"
     ]
    }
   ],
   "source": [
    "# Extracting date and total confirmed cases columns\n",
    "date_column = 'Date'  # Assuming 'Date' is the column name for date\n",
    "confirmed_cases_column = 'Total Confirmed cases'  # Assuming 'Total Confirmed cases' is the column name for confirmed cases\n",
    "\n",
    "# Selecting only the columns of interest\n",
    "main_dataset = main_dataset1[[date_column, confirmed_cases_column]]\n",
    "\n",
    "# Displaying the selected data\n",
    "print(main_dataset)"
   ]
  },
  {
   "cell_type": "code",
   "execution_count": 5,
   "metadata": {},
   "outputs": [
    {
     "name": "stderr",
     "output_type": "stream",
     "text": [
      "/var/folders/_2/bhvs0hg507b193s64c1g1lhr0000gp/T/ipykernel_54015/311317157.py:1: SettingWithCopyWarning: \n",
      "A value is trying to be set on a copy of a slice from a DataFrame.\n",
      "Try using .loc[row_indexer,col_indexer] = value instead\n",
      "\n",
      "See the caveats in the documentation: https://pandas.pydata.org/pandas-docs/stable/user_guide/indexing.html#returning-a-view-versus-a-copy\n",
      "  main_dataset['Total Confirmed cases'] = main_dataset['Total Confirmed cases'].astype(int)\n"
     ]
    }
   ],
   "source": [
    "main_dataset['Total Confirmed cases'] = main_dataset['Total Confirmed cases'].astype(int)"
   ]
  },
  {
   "cell_type": "code",
   "execution_count": 6,
   "metadata": {},
   "outputs": [
    {
     "data": {
      "text/html": [
       "<div>\n",
       "<style scoped>\n",
       "    .dataframe tbody tr th:only-of-type {\n",
       "        vertical-align: middle;\n",
       "    }\n",
       "\n",
       "    .dataframe tbody tr th {\n",
       "        vertical-align: top;\n",
       "    }\n",
       "\n",
       "    .dataframe thead th {\n",
       "        text-align: right;\n",
       "    }\n",
       "</style>\n",
       "<table border=\"1\" class=\"dataframe\">\n",
       "  <thead>\n",
       "    <tr style=\"text-align: right;\">\n",
       "      <th></th>\n",
       "      <th>Date</th>\n",
       "      <th>Total Confirmed cases</th>\n",
       "    </tr>\n",
       "  </thead>\n",
       "  <tbody>\n",
       "    <tr>\n",
       "      <th>0</th>\n",
       "      <td>2020-01-30</td>\n",
       "      <td>1</td>\n",
       "    </tr>\n",
       "    <tr>\n",
       "      <th>1</th>\n",
       "      <td>2020-01-31</td>\n",
       "      <td>1</td>\n",
       "    </tr>\n",
       "    <tr>\n",
       "      <th>2</th>\n",
       "      <td>2020-02-01</td>\n",
       "      <td>2</td>\n",
       "    </tr>\n",
       "    <tr>\n",
       "      <th>3</th>\n",
       "      <td>2020-02-02</td>\n",
       "      <td>3</td>\n",
       "    </tr>\n",
       "    <tr>\n",
       "      <th>4</th>\n",
       "      <td>2020-02-03</td>\n",
       "      <td>3</td>\n",
       "    </tr>\n",
       "    <tr>\n",
       "      <th>...</th>\n",
       "      <td>...</td>\n",
       "      <td>...</td>\n",
       "    </tr>\n",
       "    <tr>\n",
       "      <th>4687</th>\n",
       "      <td>2020-08-06</td>\n",
       "      <td>73050</td>\n",
       "    </tr>\n",
       "    <tr>\n",
       "      <th>4688</th>\n",
       "      <td>2020-08-06</td>\n",
       "      <td>5725</td>\n",
       "    </tr>\n",
       "    <tr>\n",
       "      <th>4689</th>\n",
       "      <td>2020-08-06</td>\n",
       "      <td>104388</td>\n",
       "    </tr>\n",
       "    <tr>\n",
       "      <th>4690</th>\n",
       "      <td>2020-08-06</td>\n",
       "      <td>8254</td>\n",
       "    </tr>\n",
       "    <tr>\n",
       "      <th>4691</th>\n",
       "      <td>2020-08-06</td>\n",
       "      <td>83800</td>\n",
       "    </tr>\n",
       "  </tbody>\n",
       "</table>\n",
       "<p>4692 rows × 2 columns</p>\n",
       "</div>"
      ],
      "text/plain": [
       "            Date  Total Confirmed cases\n",
       "0     2020-01-30                      1\n",
       "1     2020-01-31                      1\n",
       "2     2020-02-01                      2\n",
       "3     2020-02-02                      3\n",
       "4     2020-02-03                      3\n",
       "...          ...                    ...\n",
       "4687  2020-08-06                  73050\n",
       "4688  2020-08-06                   5725\n",
       "4689  2020-08-06                 104388\n",
       "4690  2020-08-06                   8254\n",
       "4691  2020-08-06                  83800\n",
       "\n",
       "[4692 rows x 2 columns]"
      ]
     },
     "execution_count": 6,
     "metadata": {},
     "output_type": "execute_result"
    }
   ],
   "source": [
    "main_dataset"
   ]
  },
  {
   "cell_type": "code",
   "execution_count": 7,
   "metadata": {},
   "outputs": [],
   "source": [
    "main_dataset = main_dataset.rename(columns={'Total Confirmed cases': 'Cases'})"
   ]
  },
  {
   "cell_type": "code",
   "execution_count": 8,
   "metadata": {},
   "outputs": [
    {
     "data": {
      "image/png": "[encoded data removed]",
      "text/plain": [
       "<Figure size 640x480 with 1 Axes>"
      ]
     },
     "metadata": {},
     "output_type": "display_data"
    }
   ],
   "source": [
    "plt.plot(main_dataset.Date,main_dataset.Cases)\n",
    "plt.show()"
   ]
  },
  {
   "cell_type": "code",
   "execution_count": 9,
   "metadata": {},
   "outputs": [],
   "source": [
    "dataset = main_dataset #Create another dataset same as the main dataset. Just to avoid replacing the main one.\n",
    "dataset = dataset.set_index('Date') \n",
    "dataset = dataset['Cases']"
   ]
  },
  {
   "cell_type": "code",
   "execution_count": 10,
   "metadata": {},
   "outputs": [],
   "source": [
    "dataset=dataset.to_frame() #Convert the Series into a dataframe object\n",
    "dataset['Cases_MA2']=dataset.expanding(min_periods=3).mean()  #min_periods is used to set the no. of periods for calculating MA. Mean is for calculating average."
   ]
  },
  {
   "cell_type": "code",
   "execution_count": 11,
   "metadata": {},
   "outputs": [],
   "source": [
    "dataset['EMA'] = dataset.iloc[:,0].ewm(span=3,adjust=False).mean() #ewm is used exponential moving average"
   ]
  },
  {
   "cell_type": "code",
   "execution_count": 12,
   "metadata": {},
   "outputs": [],
   "source": [
    "dataset = dataset[dataset['Cases_MA2'].notna()] #Remove the rows that have NAs"
   ]
  },
  {
   "cell_type": "code",
   "execution_count": 13,
   "metadata": {},
   "outputs": [
    {
     "data": {
      "text/html": [
       "<div>\n",
       "<style scoped>\n",
       "    .dataframe tbody tr th:only-of-type {\n",
       "        vertical-align: middle;\n",
       "    }\n",
       "\n",
       "    .dataframe tbody tr th {\n",
       "        vertical-align: top;\n",
       "    }\n",
       "\n",
       "    .dataframe thead th {\n",
       "        text-align: right;\n",
       "    }\n",
       "</style>\n",
       "<table border=\"1\" class=\"dataframe\">\n",
       "  <thead>\n",
       "    <tr style=\"text-align: right;\">\n",
       "      <th></th>\n",
       "      <th>Cases</th>\n",
       "      <th>Cases_MA2</th>\n",
       "      <th>EMA</th>\n",
       "    </tr>\n",
       "    <tr>\n",
       "      <th>Date</th>\n",
       "      <th></th>\n",
       "      <th></th>\n",
       "      <th></th>\n",
       "    </tr>\n",
       "  </thead>\n",
       "  <tbody>\n",
       "    <tr>\n",
       "      <th>2020-02-01</th>\n",
       "      <td>2</td>\n",
       "      <td>1.333333</td>\n",
       "      <td>1.50000</td>\n",
       "    </tr>\n",
       "    <tr>\n",
       "      <th>2020-02-02</th>\n",
       "      <td>3</td>\n",
       "      <td>1.750000</td>\n",
       "      <td>2.25000</td>\n",
       "    </tr>\n",
       "    <tr>\n",
       "      <th>2020-02-03</th>\n",
       "      <td>3</td>\n",
       "      <td>2.000000</td>\n",
       "      <td>2.62500</td>\n",
       "    </tr>\n",
       "    <tr>\n",
       "      <th>2020-02-04</th>\n",
       "      <td>3</td>\n",
       "      <td>2.166667</td>\n",
       "      <td>2.81250</td>\n",
       "    </tr>\n",
       "    <tr>\n",
       "      <th>2020-02-05</th>\n",
       "      <td>3</td>\n",
       "      <td>2.285714</td>\n",
       "      <td>2.90625</td>\n",
       "    </tr>\n",
       "  </tbody>\n",
       "</table>\n",
       "</div>"
      ],
      "text/plain": [
       "            Cases  Cases_MA2      EMA\n",
       "Date                                 \n",
       "2020-02-01      2   1.333333  1.50000\n",
       "2020-02-02      3   1.750000  2.25000\n",
       "2020-02-03      3   2.000000  2.62500\n",
       "2020-02-04      3   2.166667  2.81250\n",
       "2020-02-05      3   2.285714  2.90625"
      ]
     },
     "execution_count": 13,
     "metadata": {},
     "output_type": "execute_result"
    }
   ],
   "source": [
    "dataset.head()"
   ]
  },
  {
   "cell_type": "code",
   "execution_count": 14,
   "metadata": {},
   "outputs": [],
   "source": [
    "#Cases is the column we have to predict.\n",
    "target=dataset[['Cases']]\n",
    "del dataset['Cases']"
   ]
  },
  {
   "cell_type": "code",
   "execution_count": 16,
   "metadata": {},
   "outputs": [],
   "source": [
    "x, y = dataset.values, target.values"
   ]
  },
  {
   "cell_type": "code",
   "execution_count": 17,
   "metadata": {},
   "outputs": [
    {
     "data": {
      "text/plain": [
       "(4690, 2)"
      ]
     },
     "execution_count": 17,
     "metadata": {},
     "output_type": "execute_result"
    }
   ],
   "source": [
    "x.shape"
   ]
  },
  {
   "cell_type": "code",
   "execution_count": 18,
   "metadata": {},
   "outputs": [
    {
     "data": {
      "text/plain": [
       "(4690, 1)"
      ]
     },
     "execution_count": 18,
     "metadata": {},
     "output_type": "execute_result"
    }
   ],
   "source": [
    "y.shape"
   ]
  },
  {
   "cell_type": "code",
   "execution_count": 19,
   "metadata": {},
   "outputs": [],
   "source": [
    "x_scaled_set = MinMaxScaler() #Use MinMaxScaler function from sklearn.preprocessing library\n",
    "y_scaled_set = MinMaxScaler()\n",
    "\n",
    "X = x_scaled_set.fit_transform(x) #Fit to data and transform the data array x\n",
    "Y = y_scaled_set.fit_transform(y.reshape(-1,1)) #Fit to data and transform the data array y. Reshape the y variable to long format"
   ]
  },
  {
   "cell_type": "code",
   "execution_count": 20,
   "metadata": {},
   "outputs": [
    {
     "data": {
      "text/plain": [
       "(4690, 2)"
      ]
     },
     "execution_count": 20,
     "metadata": {},
     "output_type": "execute_result"
    }
   ],
   "source": [
    "x.shape"
   ]
  },
  {
   "cell_type": "code",
   "execution_count": 21,
   "metadata": {},
   "outputs": [],
   "source": [
    "X_train_data=X[0:4000,]\n",
    "y_train_data=Y[0:4000,]\n",
    "X_test_data=X[4000:4690,]\n",
    "y_test_data=Y[4000:4690,]"
   ]
  },
  {
   "cell_type": "code",
   "execution_count": 22,
   "metadata": {},
   "outputs": [
    {
     "data": {
      "text/plain": [
       "(4000, 2)"
      ]
     },
     "execution_count": 22,
     "metadata": {},
     "output_type": "execute_result"
    }
   ],
   "source": [
    "X_train_data.shape"
   ]
  },
  {
   "cell_type": "code",
   "execution_count": 23,
   "metadata": {},
   "outputs": [
    {
     "data": {
      "text/plain": [
       "(690, 1)"
      ]
     },
     "execution_count": 23,
     "metadata": {},
     "output_type": "execute_result"
    }
   ],
   "source": [
    "y_test_data.shape"
   ]
  },
  {
   "cell_type": "code",
   "execution_count": 24,
   "metadata": {},
   "outputs": [],
   "source": [
    "X_train_data = X_train_data.reshape((-1,1,2)) #Reshape train dataset to required format\n",
    "X_test_data = X_test_data.reshape((-1,1,2)) #Reshape test dataset to required format"
   ]
  },
  {
   "cell_type": "code",
   "execution_count": 31,
   "metadata": {},
   "outputs": [],
   "source": [
    "GRU_model = Sequential() #Use Sequential function from keras.model library\n",
    "GRU_model.add(GRU(units=512,\n",
    "              return_sequences=True,\n",
    "              input_shape=(1, 2))) #Add GRU model with 512 units. Note that return sequences should be true to pass on the sequences. Ensure that input_shape is inline with the inout data.\n",
    "GRU_model.add(Dropout(0.2)) #Add a dropout layer to avoid overfitting.\n",
    "GRU_model.add(GRU(units=256)) #Add another GRU layer with 256 units.\n",
    "GRU_model.add(Dropout(0.2)) #Add another dropout layer to avoid overfitting.\n",
    "GRU_model.add(Dense(1, activation='linear')) #Finally, add a"
   ]
  },
  {
   "cell_type": "code",
   "execution_count": 32,
   "metadata": {},
   "outputs": [],
   "source": [
    "GRU_model.compile(loss='mse', optimizer='adam', metrics = ['accuracy']) #mse is mean square error which is the loss function and Adam optimizer will be the ooptimizer."
   ]
  },
  {
   "cell_type": "code",
   "execution_count": 33,
   "metadata": {},
   "outputs": [
    {
     "name": "stdout",
     "output_type": "stream",
     "text": [
      "Epoch 1/100\n",
      "14/14 [==============================] - 3s 65ms/step - loss: 5.1967e-04 - accuracy: 0.0800 - val_loss: 0.0051 - val_accuracy: 0.0000e+00\n",
      "Epoch 2/100\n",
      "14/14 [==============================] - 0s 23ms/step - loss: 2.5184e-04 - accuracy: 0.0800 - val_loss: 0.0023 - val_accuracy: 0.0000e+00\n",
      "Epoch 3/100\n",
      "14/14 [==============================] - 0s 33ms/step - loss: 1.4645e-04 - accuracy: 0.0800 - val_loss: 0.0021 - val_accuracy: 0.0000e+00\n",
      "Epoch 4/100\n",
      "14/14 [==============================] - 0s 25ms/step - loss: 1.5302e-04 - accuracy: 0.0800 - val_loss: 0.0021 - val_accuracy: 0.0000e+00\n",
      "Epoch 5/100\n",
      "14/14 [==============================] - 0s 28ms/step - loss: 1.4499e-04 - accuracy: 0.0800 - val_loss: 0.0022 - val_accuracy: 0.0000e+00\n",
      "Epoch 6/100\n",
      "14/14 [==============================] - 0s 28ms/step - loss: 1.5067e-04 - accuracy: 0.0800 - val_loss: 0.0021 - val_accuracy: 0.0000e+00\n",
      "Epoch 7/100\n",
      "14/14 [==============================] - 0s 27ms/step - loss: 1.4925e-04 - accuracy: 0.0800 - val_loss: 0.0021 - val_accuracy: 0.0000e+00\n",
      "Epoch 8/100\n",
      "14/14 [==============================] - 0s 27ms/step - loss: 1.4692e-04 - accuracy: 0.0800 - val_loss: 0.0021 - val_accuracy: 0.0000e+00\n",
      "Epoch 9/100\n",
      "14/14 [==============================] - 0s 27ms/step - loss: 1.4707e-04 - accuracy: 0.0800 - val_loss: 0.0021 - val_accuracy: 0.0000e+00\n",
      "Epoch 10/100\n",
      "14/14 [==============================] - 0s 28ms/step - loss: 1.4586e-04 - accuracy: 0.0800 - val_loss: 0.0023 - val_accuracy: 0.0000e+00\n",
      "Epoch 11/100\n",
      "14/14 [==============================] - 0s 27ms/step - loss: 1.4639e-04 - accuracy: 0.0800 - val_loss: 0.0021 - val_accuracy: 0.0000e+00\n",
      "Epoch 12/100\n",
      "14/14 [==============================] - 0s 32ms/step - loss: 1.3958e-04 - accuracy: 0.0800 - val_loss: 0.0021 - val_accuracy: 0.0000e+00\n",
      "Epoch 13/100\n",
      "14/14 [==============================] - 0s 27ms/step - loss: 1.4315e-04 - accuracy: 0.0800 - val_loss: 0.0021 - val_accuracy: 0.0000e+00\n",
      "Epoch 14/100\n",
      "14/14 [==============================] - 0s 29ms/step - loss: 1.5155e-04 - accuracy: 0.0800 - val_loss: 0.0022 - val_accuracy: 0.0000e+00\n",
      "Epoch 15/100\n",
      "14/14 [==============================] - 0s 32ms/step - loss: 1.3909e-04 - accuracy: 0.0800 - val_loss: 0.0021 - val_accuracy: 0.0000e+00\n",
      "Epoch 16/100\n",
      "14/14 [==============================] - 0s 35ms/step - loss: 1.5117e-04 - accuracy: 0.0800 - val_loss: 0.0021 - val_accuracy: 0.0000e+00\n",
      "Epoch 17/100\n",
      "14/14 [==============================] - 0s 34ms/step - loss: 1.5765e-04 - accuracy: 0.0800 - val_loss: 0.0021 - val_accuracy: 0.0000e+00\n",
      "Epoch 18/100\n",
      "14/14 [==============================] - 0s 29ms/step - loss: 1.4429e-04 - accuracy: 0.0800 - val_loss: 0.0021 - val_accuracy: 0.0000e+00\n",
      "Epoch 19/100\n",
      "14/14 [==============================] - 0s 27ms/step - loss: 1.5071e-04 - accuracy: 0.0800 - val_loss: 0.0021 - val_accuracy: 0.0000e+00\n",
      "Epoch 20/100\n",
      "14/14 [==============================] - 0s 34ms/step - loss: 1.4797e-04 - accuracy: 0.0800 - val_loss: 0.0021 - val_accuracy: 0.0000e+00\n",
      "Epoch 21/100\n",
      "14/14 [==============================] - 0s 27ms/step - loss: 1.3950e-04 - accuracy: 0.0800 - val_loss: 0.0021 - val_accuracy: 0.0000e+00\n",
      "Epoch 22/100\n",
      "14/14 [==============================] - 0s 28ms/step - loss: 1.4173e-04 - accuracy: 0.0800 - val_loss: 0.0022 - val_accuracy: 0.0000e+00\n",
      "Epoch 23/100\n",
      "14/14 [==============================] - 0s 28ms/step - loss: 1.4088e-04 - accuracy: 0.0800 - val_loss: 0.0021 - val_accuracy: 0.0000e+00\n",
      "Epoch 24/100\n",
      "14/14 [==============================] - 0s 27ms/step - loss: 1.3800e-04 - accuracy: 0.0800 - val_loss: 0.0021 - val_accuracy: 0.0000e+00\n",
      "Epoch 25/100\n",
      "14/14 [==============================] - 0s 28ms/step - loss: 1.4826e-04 - accuracy: 0.0800 - val_loss: 0.0022 - val_accuracy: 0.0000e+00\n",
      "Epoch 26/100\n",
      "14/14 [==============================] - 0s 28ms/step - loss: 1.4270e-04 - accuracy: 0.0800 - val_loss: 0.0021 - val_accuracy: 0.0000e+00\n",
      "Epoch 27/100\n",
      "14/14 [==============================] - 0s 28ms/step - loss: 1.4038e-04 - accuracy: 0.0800 - val_loss: 0.0021 - val_accuracy: 0.0000e+00\n",
      "Epoch 28/100\n",
      "14/14 [==============================] - 0s 34ms/step - loss: 1.4340e-04 - accuracy: 0.0800 - val_loss: 0.0021 - val_accuracy: 0.0000e+00\n",
      "Epoch 29/100\n",
      "14/14 [==============================] - 0s 27ms/step - loss: 1.4992e-04 - accuracy: 0.0800 - val_loss: 0.0021 - val_accuracy: 0.0000e+00\n",
      "Epoch 30/100\n",
      "14/14 [==============================] - 0s 28ms/step - loss: 1.4301e-04 - accuracy: 0.0800 - val_loss: 0.0021 - val_accuracy: 0.0000e+00\n",
      "Epoch 31/100\n",
      "14/14 [==============================] - 0s 28ms/step - loss: 1.5111e-04 - accuracy: 0.0800 - val_loss: 0.0020 - val_accuracy: 0.0000e+00\n",
      "Epoch 32/100\n",
      "14/14 [==============================] - 0s 27ms/step - loss: 1.4794e-04 - accuracy: 0.0800 - val_loss: 0.0021 - val_accuracy: 0.0000e+00\n",
      "Epoch 33/100\n",
      "14/14 [==============================] - 0s 28ms/step - loss: 1.3938e-04 - accuracy: 0.0800 - val_loss: 0.0020 - val_accuracy: 0.0000e+00\n",
      "Epoch 34/100\n",
      "14/14 [==============================] - 0s 27ms/step - loss: 1.3902e-04 - accuracy: 0.0800 - val_loss: 0.0021 - val_accuracy: 0.0000e+00\n",
      "Epoch 35/100\n",
      "14/14 [==============================] - 0s 28ms/step - loss: 1.4007e-04 - accuracy: 0.0800 - val_loss: 0.0021 - val_accuracy: 0.0000e+00\n",
      "Epoch 36/100\n",
      "14/14 [==============================] - 0s 33ms/step - loss: 1.4076e-04 - accuracy: 0.0800 - val_loss: 0.0020 - val_accuracy: 0.0000e+00\n",
      "Epoch 37/100\n",
      "14/14 [==============================] - 0s 27ms/step - loss: 1.4396e-04 - accuracy: 0.0800 - val_loss: 0.0020 - val_accuracy: 0.0000e+00\n",
      "Epoch 38/100\n",
      "14/14 [==============================] - 0s 27ms/step - loss: 1.4068e-04 - accuracy: 0.0800 - val_loss: 0.0021 - val_accuracy: 0.0000e+00\n",
      "Epoch 39/100\n",
      "14/14 [==============================] - 0s 29ms/step - loss: 1.3743e-04 - accuracy: 0.0800 - val_loss: 0.0020 - val_accuracy: 0.0000e+00\n",
      "Epoch 40/100\n",
      "14/14 [==============================] - 1s 38ms/step - loss: 1.3860e-04 - accuracy: 0.0800 - val_loss: 0.0020 - val_accuracy: 0.0000e+00\n",
      "Epoch 41/100\n",
      "14/14 [==============================] - 0s 27ms/step - loss: 1.3460e-04 - accuracy: 0.0800 - val_loss: 0.0021 - val_accuracy: 0.0000e+00\n",
      "Epoch 42/100\n",
      "14/14 [==============================] - 0s 35ms/step - loss: 1.3827e-04 - accuracy: 0.0800 - val_loss: 0.0020 - val_accuracy: 0.0000e+00\n",
      "Epoch 43/100\n",
      "14/14 [==============================] - 0s 31ms/step - loss: 1.3563e-04 - accuracy: 0.0800 - val_loss: 0.0020 - val_accuracy: 0.0000e+00\n",
      "Epoch 44/100\n",
      "14/14 [==============================] - 0s 27ms/step - loss: 1.4068e-04 - accuracy: 0.0800 - val_loss: 0.0020 - val_accuracy: 0.0000e+00\n",
      "Epoch 45/100\n",
      "14/14 [==============================] - 0s 28ms/step - loss: 1.4402e-04 - accuracy: 0.0800 - val_loss: 0.0020 - val_accuracy: 0.0000e+00\n",
      "Epoch 46/100\n",
      "14/14 [==============================] - 0s 28ms/step - loss: 1.3694e-04 - accuracy: 0.0800 - val_loss: 0.0020 - val_accuracy: 0.0000e+00\n",
      "Epoch 47/100\n",
      "14/14 [==============================] - 0s 29ms/step - loss: 1.4304e-04 - accuracy: 0.0800 - val_loss: 0.0020 - val_accuracy: 0.0000e+00\n",
      "Epoch 48/100\n",
      "14/14 [==============================] - 0s 29ms/step - loss: 1.3951e-04 - accuracy: 0.0800 - val_loss: 0.0021 - val_accuracy: 0.0000e+00\n",
      "Epoch 49/100\n",
      "14/14 [==============================] - 0s 28ms/step - loss: 1.4200e-04 - accuracy: 0.0800 - val_loss: 0.0021 - val_accuracy: 0.0000e+00\n",
      "Epoch 50/100\n",
      "14/14 [==============================] - 0s 29ms/step - loss: 1.3927e-04 - accuracy: 0.0800 - val_loss: 0.0020 - val_accuracy: 0.0000e+00\n",
      "Epoch 51/100\n",
      "14/14 [==============================] - 0s 33ms/step - loss: 1.3551e-04 - accuracy: 0.0800 - val_loss: 0.0020 - val_accuracy: 0.0000e+00\n",
      "Epoch 52/100\n",
      "14/14 [==============================] - 0s 31ms/step - loss: 1.3498e-04 - accuracy: 0.0800 - val_loss: 0.0020 - val_accuracy: 0.0000e+00\n",
      "Epoch 53/100\n",
      "14/14 [==============================] - 0s 30ms/step - loss: 1.3515e-04 - accuracy: 0.0800 - val_loss: 0.0020 - val_accuracy: 0.0000e+00\n",
      "Epoch 54/100\n",
      "14/14 [==============================] - 1s 46ms/step - loss: 1.3910e-04 - accuracy: 0.0800 - val_loss: 0.0021 - val_accuracy: 0.0000e+00\n",
      "Epoch 55/100\n",
      "14/14 [==============================] - 1s 59ms/step - loss: 1.4052e-04 - accuracy: 0.0800 - val_loss: 0.0020 - val_accuracy: 0.0000e+00\n",
      "Epoch 56/100\n",
      "14/14 [==============================] - 1s 39ms/step - loss: 1.3882e-04 - accuracy: 0.0800 - val_loss: 0.0020 - val_accuracy: 0.0000e+00\n",
      "Epoch 57/100\n",
      "14/14 [==============================] - 0s 33ms/step - loss: 1.4766e-04 - accuracy: 0.0800 - val_loss: 0.0020 - val_accuracy: 0.0000e+00\n",
      "Epoch 58/100\n",
      "14/14 [==============================] - 1s 36ms/step - loss: 1.4513e-04 - accuracy: 0.0800 - val_loss: 0.0020 - val_accuracy: 0.0000e+00\n",
      "Epoch 59/100\n",
      "14/14 [==============================] - 0s 32ms/step - loss: 1.4142e-04 - accuracy: 0.0800 - val_loss: 0.0020 - val_accuracy: 0.0000e+00\n",
      "Epoch 60/100\n",
      "14/14 [==============================] - 0s 30ms/step - loss: 1.4631e-04 - accuracy: 0.0800 - val_loss: 0.0022 - val_accuracy: 0.0000e+00\n",
      "Epoch 61/100\n",
      "14/14 [==============================] - 0s 29ms/step - loss: 1.3667e-04 - accuracy: 0.0800 - val_loss: 0.0020 - val_accuracy: 0.0000e+00\n",
      "Epoch 62/100\n",
      "14/14 [==============================] - 0s 30ms/step - loss: 1.4568e-04 - accuracy: 0.0800 - val_loss: 0.0020 - val_accuracy: 0.0000e+00\n",
      "Epoch 63/100\n",
      "14/14 [==============================] - 0s 30ms/step - loss: 1.3819e-04 - accuracy: 0.0800 - val_loss: 0.0020 - val_accuracy: 0.0000e+00\n",
      "Epoch 64/100\n",
      "14/14 [==============================] - 0s 35ms/step - loss: 1.3887e-04 - accuracy: 0.0800 - val_loss: 0.0020 - val_accuracy: 0.0000e+00\n",
      "Epoch 65/100\n",
      "14/14 [==============================] - 0s 32ms/step - loss: 1.3500e-04 - accuracy: 0.0800 - val_loss: 0.0020 - val_accuracy: 0.0000e+00\n",
      "Epoch 66/100\n",
      "14/14 [==============================] - 0s 31ms/step - loss: 1.3387e-04 - accuracy: 0.0800 - val_loss: 0.0020 - val_accuracy: 0.0000e+00\n",
      "Epoch 67/100\n",
      "14/14 [==============================] - 0s 32ms/step - loss: 1.3457e-04 - accuracy: 0.0800 - val_loss: 0.0020 - val_accuracy: 0.0000e+00\n",
      "Epoch 68/100\n",
      "14/14 [==============================] - 0s 30ms/step - loss: 1.4145e-04 - accuracy: 0.0800 - val_loss: 0.0020 - val_accuracy: 0.0000e+00\n",
      "Epoch 69/100\n",
      "14/14 [==============================] - 0s 30ms/step - loss: 1.4062e-04 - accuracy: 0.0800 - val_loss: 0.0020 - val_accuracy: 0.0000e+00\n",
      "Epoch 70/100\n",
      "14/14 [==============================] - 0s 36ms/step - loss: 1.3774e-04 - accuracy: 0.0800 - val_loss: 0.0020 - val_accuracy: 0.0000e+00\n",
      "Epoch 71/100\n",
      "14/14 [==============================] - 0s 30ms/step - loss: 1.4502e-04 - accuracy: 0.0800 - val_loss: 0.0020 - val_accuracy: 0.0000e+00\n",
      "Epoch 72/100\n",
      "14/14 [==============================] - 0s 31ms/step - loss: 1.3940e-04 - accuracy: 0.0800 - val_loss: 0.0020 - val_accuracy: 0.0000e+00\n",
      "Epoch 73/100\n",
      "14/14 [==============================] - 0s 30ms/step - loss: 1.3590e-04 - accuracy: 0.0800 - val_loss: 0.0020 - val_accuracy: 0.0000e+00\n",
      "Epoch 74/100\n",
      "14/14 [==============================] - 0s 30ms/step - loss: 1.3488e-04 - accuracy: 0.0800 - val_loss: 0.0021 - val_accuracy: 0.0000e+00\n",
      "Epoch 75/100\n",
      "14/14 [==============================] - 0s 31ms/step - loss: 1.2982e-04 - accuracy: 0.0800 - val_loss: 0.0020 - val_accuracy: 0.0000e+00\n",
      "Epoch 76/100\n",
      "14/14 [==============================] - 0s 32ms/step - loss: 1.4049e-04 - accuracy: 0.0800 - val_loss: 0.0020 - val_accuracy: 0.0000e+00\n",
      "Epoch 77/100\n",
      "14/14 [==============================] - 0s 32ms/step - loss: 1.3496e-04 - accuracy: 0.0800 - val_loss: 0.0020 - val_accuracy: 0.0000e+00\n",
      "Epoch 78/100\n",
      "14/14 [==============================] - 0s 29ms/step - loss: 1.3422e-04 - accuracy: 0.0800 - val_loss: 0.0020 - val_accuracy: 0.0000e+00\n",
      "Epoch 79/100\n",
      "14/14 [==============================] - 0s 31ms/step - loss: 1.4049e-04 - accuracy: 0.0800 - val_loss: 0.0019 - val_accuracy: 0.0000e+00\n",
      "Epoch 80/100\n",
      "14/14 [==============================] - 0s 31ms/step - loss: 1.3179e-04 - accuracy: 0.0800 - val_loss: 0.0021 - val_accuracy: 0.0000e+00\n",
      "Epoch 81/100\n",
      "14/14 [==============================] - 1s 38ms/step - loss: 1.3687e-04 - accuracy: 0.0800 - val_loss: 0.0019 - val_accuracy: 0.0000e+00\n",
      "Epoch 82/100\n",
      "14/14 [==============================] - 0s 31ms/step - loss: 1.3533e-04 - accuracy: 0.0800 - val_loss: 0.0020 - val_accuracy: 0.0000e+00\n",
      "Epoch 83/100\n",
      "14/14 [==============================] - 0s 34ms/step - loss: 1.3728e-04 - accuracy: 0.0800 - val_loss: 0.0020 - val_accuracy: 0.0000e+00\n",
      "Epoch 84/100\n",
      "14/14 [==============================] - 0s 30ms/step - loss: 1.3630e-04 - accuracy: 0.0800 - val_loss: 0.0019 - val_accuracy: 0.0000e+00\n",
      "Epoch 85/100\n",
      "14/14 [==============================] - 0s 31ms/step - loss: 1.3969e-04 - accuracy: 0.0800 - val_loss: 0.0020 - val_accuracy: 0.0000e+00\n",
      "Epoch 86/100\n",
      "14/14 [==============================] - 0s 30ms/step - loss: 1.4204e-04 - accuracy: 0.0800 - val_loss: 0.0019 - val_accuracy: 0.0000e+00\n",
      "Epoch 87/100\n",
      "14/14 [==============================] - 0s 32ms/step - loss: 1.4488e-04 - accuracy: 0.0800 - val_loss: 0.0021 - val_accuracy: 0.0000e+00\n",
      "Epoch 88/100\n",
      "14/14 [==============================] - 0s 31ms/step - loss: 1.3572e-04 - accuracy: 0.0800 - val_loss: 0.0019 - val_accuracy: 0.0000e+00\n",
      "Epoch 89/100\n",
      "14/14 [==============================] - 1s 41ms/step - loss: 1.3238e-04 - accuracy: 0.0800 - val_loss: 0.0020 - val_accuracy: 0.0000e+00\n",
      "Epoch 90/100\n",
      "14/14 [==============================] - 1s 37ms/step - loss: 1.3824e-04 - accuracy: 0.0800 - val_loss: 0.0020 - val_accuracy: 0.0000e+00\n",
      "Epoch 91/100\n",
      "14/14 [==============================] - 0s 36ms/step - loss: 1.3849e-04 - accuracy: 0.0800 - val_loss: 0.0020 - val_accuracy: 0.0000e+00\n",
      "Epoch 92/100\n",
      "14/14 [==============================] - 1s 38ms/step - loss: 1.3909e-04 - accuracy: 0.0800 - val_loss: 0.0019 - val_accuracy: 0.0000e+00\n",
      "Epoch 93/100\n",
      "14/14 [==============================] - 0s 28ms/step - loss: 1.3783e-04 - accuracy: 0.0800 - val_loss: 0.0019 - val_accuracy: 0.0000e+00\n",
      "Epoch 94/100\n",
      "14/14 [==============================] - 0s 32ms/step - loss: 1.3128e-04 - accuracy: 0.0800 - val_loss: 0.0019 - val_accuracy: 0.0000e+00\n",
      "Epoch 95/100\n",
      "14/14 [==============================] - 0s 34ms/step - loss: 1.3339e-04 - accuracy: 0.0800 - val_loss: 0.0019 - val_accuracy: 0.0000e+00\n",
      "Epoch 96/100\n",
      "14/14 [==============================] - 0s 35ms/step - loss: 1.2733e-04 - accuracy: 0.0800 - val_loss: 0.0020 - val_accuracy: 0.0000e+00\n",
      "Epoch 97/100\n",
      "14/14 [==============================] - 0s 31ms/step - loss: 1.3600e-04 - accuracy: 0.0800 - val_loss: 0.0019 - val_accuracy: 0.0000e+00\n",
      "Epoch 98/100\n",
      "14/14 [==============================] - 0s 36ms/step - loss: 1.3320e-04 - accuracy: 0.0800 - val_loss: 0.0020 - val_accuracy: 0.0000e+00\n",
      "Epoch 99/100\n",
      "14/14 [==============================] - 0s 32ms/step - loss: 1.3345e-04 - accuracy: 0.0800 - val_loss: 0.0019 - val_accuracy: 0.0000e+00\n",
      "Epoch 100/100\n",
      "14/14 [==============================] - 0s 35ms/step - loss: 1.3125e-04 - accuracy: 0.0800 - val_loss: 0.0020 - val_accuracy: 0.0000e+00\n"
     ]
    },
    {
     "data": {
      "text/plain": [
       "<keras.src.callbacks.History at 0x161831f10>"
      ]
     },
     "execution_count": 33,
     "metadata": {},
     "output_type": "execute_result"
    }
   ],
   "source": [
    "GRU_model.fit(X_train_data,y_train_data,batch_size=250, epochs=100, validation_split=0.15, verbose=1)\n",
    "#GRU_model.save(\"covid_GRU.h5\") #Save the model if you want for reuse."
   ]
  },
  {
   "cell_type": "code",
   "execution_count": 34,
   "metadata": {},
   "outputs": [
    {
     "name": "stdout",
     "output_type": "stream",
     "text": [
      "22/22 [==============================] - 0s 3ms/step - loss: 0.0066 - accuracy: 0.0014\n",
      "Score: [0.006643820554018021, 0.0014492754125967622]\n",
      "22/22 [==============================] - 0s 2ms/step\n"
     ]
    }
   ],
   "source": [
    "score = GRU_model.evaluate(X_test_data, y_test_data) #Evaluate model can be used to get the loss metric.\n",
    "print('Score: {}'.format(score))\n",
    "y_pred = GRU_model.predict(X_test_data) #Apply the built model on test data.\n",
    "y_test_pred = y_scaled_set.inverse_transform(y_pred) #Use inverse transform to undo the scaling that was done before. This gives us the original values.\n",
    "y_test_actual = y_scaled_set.inverse_transform(y_test_data) # Apply the inverse transform on the actual dataset for easy comparison of predicted vs actual.\n",
    "#plt.plot(y_test_pred[-100:], label='Predicted') #Plot the predicted vs actual graph\n",
    "#plt.plot(y_test_actual[-100:], label='Actual')\n",
    "#plt.legend()\n",
    "#plt.show()"
   ]
  },
  {
   "cell_type": "code",
   "execution_count": 35,
   "metadata": {},
   "outputs": [],
   "source": [
    "test_Dates=main_dataset.Date[4000:4690] #create an object which has the dates for the Test data."
   ]
  },
  {
   "cell_type": "code",
   "execution_count": 40,
   "metadata": {},
   "outputs": [
    {
     "data": {
      "image/png": "[encoded data removed]",
      "text/plain": [
       "<Figure size 3000x900 with 1 Axes>"
      ]
     },
     "metadata": {},
     "output_type": "display_data"
    }
   ],
   "source": [
    "\n",
    "\n",
    "# Define the figure size\n",
    "fig_size = (30, 9)  # Adjust width and height as needed\n",
    "\n",
    "# Create a new figure with the specified size\n",
    "plt.figure(figsize=fig_size)\n",
    "\n",
    "# Assuming test_Dates, y_test_actual, and y_test_pred are already defined\n",
    "\n",
    "# Plot actual and predicted data\n",
    "plt.plot(test_Dates, y_test_actual[-690:], label='Actual')\n",
    "plt.plot(test_Dates, y_test_pred[-690:], label='Predicted')\n",
    "\n",
    "# Add legend\n",
    "plt.legend()\n",
    "\n",
    "# Show the plot\n",
    "plt.show()\n"
   ]
  },
  {
   "cell_type": "code",
   "execution_count": null,
   "metadata": {},
   "outputs": [],
   "source": []
  },
  {
   "cell_type": "code",
   "execution_count": null,
   "metadata": {},
   "outputs": [],
   "source": []
  },
  {
   "cell_type": "code",
   "execution_count": null,
   "metadata": {},
   "outputs": [],
   "source": []
  }
 ],
 "metadata": {
  "kernelspec": {
   "display_name": "base",
   "language": "python",
   "name": "python3"
  },
  "language_info": {
   "codemirror_mode": {
    "name": "ipython",
    "version": 3
   },
   "file_extension": ".py",
   "mimetype": "text/x-python",
   "name": "python",
   "nbconvert_exporter": "python",
   "pygments_lexer": "ipython3",
   "version": "3.11.5"
  }
 },
 "nbformat": 4,
 "nbformat_minor": 2
}
